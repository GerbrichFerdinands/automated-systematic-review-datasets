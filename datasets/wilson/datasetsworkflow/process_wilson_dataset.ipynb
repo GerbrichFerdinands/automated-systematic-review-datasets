{
 "cells": [
  {
   "cell_type": "code",
   "execution_count": 28,
   "metadata": {},
   "outputs": [],
   "source": [
    "from RISparser import read\n",
    "\n",
    "import pandas as pd"
   ]
  },
  {
   "cell_type": "code",
   "execution_count": 29,
   "metadata": {},
   "outputs": [],
   "source": [
    "# risparser doesn't work with this RIS format (converted to csv with Zotero)\n",
    "# df_all = read(\"../wilson/raw/DOKU_All Included_20200116_cap.txt\")\n",
    "# df_all_ft = read(\"../wilson/raw/ris/DOKU_All FT-Screening_20200116_cap.csv\")"
   ]
  },
  {
   "cell_type": "code",
   "execution_count": 47,
   "metadata": {
    "scrolled": true
   },
   "outputs": [],
   "source": [
    "df_all_tiab = pd.read_csv(\"../wilson/zotero_processed/DOKU_All TiAb-Screening_20200116_cap.csv\")\n",
    "df_all_included = pd.read_csv(\"../wilson/zotero_processed/DOKU_All Included_20200116_cap.csv\")\n",
    "df_all_ft = pd.read_csv(\"../wilson/zotero_processed/DOKU_All FT-Screening_20200116_cap.csv\")"
   ]
  },
  {
   "cell_type": "code",
   "execution_count": 48,
   "metadata": {},
   "outputs": [],
   "source": [
    "# Add label\n",
    "df_all_included['label_included'] = 1\n",
    "df_all_included['label_abstract_screening'] = 1\n",
    "\n",
    "df_all_ft['label_abstract_screening'] = 1"
   ]
  },
  {
   "cell_type": "code",
   "execution_count": 62,
   "metadata": {
    "scrolled": true
   },
   "outputs": [],
   "source": [
    "df_merged = df_all_included.append(df_all_ft).append(df_all_tiab)\n",
    "\n",
    "df_merged.drop_duplicates(subset=['Title', 'Author'], inplace=True)\n",
    "df_merged['label_included'] = df_merged['label_included'].astype(pd.Int64Dtype())\n",
    "df_merged['label_abstract_screening'] = df_merged['label_abstract_screening'].astype(pd.Int64Dtype())"
   ]
  },
  {
   "cell_type": "code",
   "execution_count": 63,
   "metadata": {},
   "outputs": [],
   "source": [
    "df_merged['abstract'] = df_merged['Abstract Note']\n",
    "del df_merged['Abstract Note']\n",
    "\n",
    "df_merged['title'] = df_merged['Title']\n",
    "del df_merged['Title']"
   ]
  },
  {
   "cell_type": "code",
   "execution_count": 64,
   "metadata": {},
   "outputs": [],
   "source": [
    "df_merged.to_csv(\"../wilson/output_csv_wilson.csv\", index=False)"
   ]
  }
 ],
 "metadata": {
  "kernelspec": {
   "display_name": "Python 3",
   "language": "python",
   "name": "python3"
  },
  "language_info": {
   "codemirror_mode": {
    "name": "ipython",
    "version": 3
   },
   "file_extension": ".py",
   "mimetype": "text/x-python",
   "name": "python",
   "nbconvert_exporter": "python",
   "pygments_lexer": "ipython3",
   "version": "3.7.4"
  }
 },
 "nbformat": 4,
 "nbformat_minor": 2
}
